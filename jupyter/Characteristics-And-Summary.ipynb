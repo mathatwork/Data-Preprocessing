{
 "cells": [
  {
   "cell_type": "markdown",
   "metadata": {},
   "source": [
    "# Examining Data Characteristics and Summary Statistics"
   ]
  },
  {
   "cell_type": "markdown",
   "metadata": {},
   "source": [
    "It is always good practice to get a better understanding of your data in order to gather as many insights from it BEFORE doing any analyses. You want to, for example, understand the **characteristics** of your dataset.  That is, you want to make sure you know:\n",
    "- what columns are reported in your data\n",
    "- what the data types are for each column\n",
    "- what the first few observations look like"
   ]
  },
  {
   "cell_type": "markdown",
   "metadata": {},
   "source": [
    "Let's revisit the sample dataset that contains 1985 model import cars and the specification of each auto in terms of its various characteristics.  This data is stored as a CSV file on the Math@Work server."
   ]
  },
  {
   "cell_type": "code",
   "execution_count": 9,
   "metadata": {},
   "outputs": [
    {
     "name": "stdout",
     "output_type": "stream",
     "text": [
      "          make fuel-type aspiration num-of-doors   body-style drive-wheels  \\\n",
      "0  alfa-romero       gas        std          two  convertible          rwd   \n",
      "1  alfa-romero       gas        std          two  convertible          rwd   \n",
      "2  alfa-romero       gas        std          two    hatchback          rwd   \n",
      "\n",
      "  engine-location  wheel-base  length  width  height  curb-weight engine-type  \\\n",
      "0           front        88.6   168.8   64.1    48.8         2548        dohc   \n",
      "1           front        88.6   168.8   64.1    48.8         2548        dohc   \n",
      "2           front        94.5   171.2   65.5    52.4         2823        ohcv   \n",
      "\n",
      "  num-of-cylinders  engine-size fuel-system  compression-ratio  city-mpg  \\\n",
      "0             four          130        mpfi                9.0        21   \n",
      "1             four          130        mpfi                9.0        21   \n",
      "2              six          152        mpfi                9.0        19   \n",
      "\n",
      "   highway-mpg    price  \n",
      "0           27  13495.0  \n",
      "1           27  16500.0  \n",
      "2           26  16500.0  \n",
      "      make fuel-type aspiration num-of-doors body-style drive-wheels  \\\n",
      "202  volvo       gas        std         four      sedan          rwd   \n",
      "203  volvo    diesel      turbo         four      sedan          rwd   \n",
      "204  volvo       gas      turbo         four      sedan          rwd   \n",
      "\n",
      "    engine-location  wheel-base  length  width  height  curb-weight  \\\n",
      "202           front       109.1   188.8   68.9    55.5         3012   \n",
      "203           front       109.1   188.8   68.9    55.5         3217   \n",
      "204           front       109.1   188.8   68.9    55.5         3062   \n",
      "\n",
      "    engine-type num-of-cylinders  engine-size fuel-system  compression-ratio  \\\n",
      "202        ohcv              six          173        mpfi                8.8   \n",
      "203         ohc              six          145         idi               23.0   \n",
      "204         ohc             four          141        mpfi                9.5   \n",
      "\n",
      "     city-mpg  highway-mpg    price  \n",
      "202        18           23  21485.0  \n",
      "203        26           27  22470.0  \n",
      "204        19           25  22625.0  \n",
      "make                  object\n",
      "fuel-type             object\n",
      "aspiration            object\n",
      "num-of-doors          object\n",
      "body-style            object\n",
      "drive-wheels          object\n",
      "engine-location       object\n",
      "wheel-base           float64\n",
      "length               float64\n",
      "width                float64\n",
      "height               float64\n",
      "curb-weight            int64\n",
      "engine-type           object\n",
      "num-of-cylinders      object\n",
      "engine-size            int64\n",
      "fuel-system           object\n",
      "compression-ratio    float64\n",
      "city-mpg               int64\n",
      "highway-mpg            int64\n",
      "price                float64\n",
      "dtype: object\n"
     ]
    }
   ],
   "source": [
    "import pandas as pd\n",
    "autos = pd.read_csv('https://mathatwork.org/DATA/automobiles.csv')\n",
    "print(autos.head(3))\n",
    "print(autos.tail(3))\n",
    "print(autos.dtypes)"
   ]
  },
  {
   "cell_type": "markdown",
   "metadata": {},
   "source": [
    "Upon reviewing the dataset head, tail, and column data types, you can see that the data looks reasonably good.  At this point, there is no indication of inappropriate column data types.  The data types are consistent with the data that is reported in each respective column."
   ]
  },
  {
   "cell_type": "markdown",
   "metadata": {},
   "source": [
    "Another good way to understand your data is by calculating various **summary statistics**.  Summary statistics can give you very useful information like where your data is centered and how spread out it is.  Now, take a look at the various summary statistics of the automobiles dataset."
   ]
  },
  {
   "cell_type": "code",
   "execution_count": 10,
   "metadata": {},
   "outputs": [
    {
     "name": "stdout",
     "output_type": "stream",
     "text": [
      "       wheel-base      length       width      height  curb-weight  \\\n",
      "count  205.000000  205.000000  205.000000  205.000000   205.000000   \n",
      "mean    98.756585  174.049268   65.907805   53.724878  2555.565854   \n",
      "std      6.021776   12.337289    2.145204    2.443522   520.680204   \n",
      "min     86.600000  141.100000   60.300000   47.800000  1488.000000   \n",
      "25%     94.500000  166.300000   64.100000   52.000000  2145.000000   \n",
      "50%     97.000000  173.200000   65.500000   54.100000  2414.000000   \n",
      "75%    102.400000  183.100000   66.900000   55.500000  2935.000000   \n",
      "max    120.900000  208.100000   72.300000   59.800000  4066.000000   \n",
      "\n",
      "       engine-size  compression-ratio    city-mpg  highway-mpg         price  \n",
      "count   205.000000         205.000000  205.000000   205.000000    201.000000  \n",
      "mean    126.907317          10.142537   25.219512    30.751220  13207.129353  \n",
      "std      41.642693           3.972040    6.542142     6.886443   7947.066342  \n",
      "min      61.000000           7.000000   13.000000    16.000000   5118.000000  \n",
      "25%      97.000000           8.600000   19.000000    25.000000   7775.000000  \n",
      "50%     120.000000           9.000000   24.000000    30.000000  10295.000000  \n",
      "75%     141.000000           9.400000   30.000000    34.000000  16500.000000  \n",
      "max     326.000000          23.000000   49.000000    54.000000  45400.000000  \n"
     ]
    }
   ],
   "source": [
    "summary = autos.describe()\n",
    "print(summary)"
   ]
  },
  {
   "cell_type": "markdown",
   "metadata": {},
   "source": [
    "Pandas **.describe( )** generates descriptive statistics that summarize the central tendency (mean), dispersion(std, quartiles, min and max) and shape of the dataset's distribution, excluding NaN values.  Review the Python for Data Science workshop for additional details on these statistical properties."
   ]
  },
  {
   "cell_type": "markdown",
   "metadata": {},
   "source": [
    "Notice that the summary statistics was saved into a DataFrame named *summary*. We can now loop through this DataFrame to calculate the relative magnitude of the standard deviation for each data column."
   ]
  },
  {
   "cell_type": "code",
   "execution_count": 18,
   "metadata": {},
   "outputs": [
    {
     "name": "stdout",
     "output_type": "stream",
     "text": [
      "wheel-base :  is 6.0 % of the mean\n",
      "length :  is 7.0 % of the mean\n",
      "width :  is 3.0 % of the mean\n",
      "height :  is 5.0 % of the mean\n",
      "curb-weight :  is 20.0 % of the mean\n",
      "engine-size :  is 33.0 % of the mean\n",
      "compression-ratio :  is 39.0 % of the mean\n",
      "city-mpg :  is 26.0 % of the mean\n",
      "highway-mpg :  is 22.0 % of the mean\n",
      "price :  is 60.0 % of the mean\n"
     ]
    }
   ],
   "source": [
    "for y in summary:\n",
    "    rel_mag = round(summary[y]['std']/summary[y]['mean']*100,0)\n",
    "    print(y,':  is',rel_mag,'% of the mean')"
   ]
  },
  {
   "cell_type": "markdown",
   "metadata": {},
   "source": [
    "This indicates that *wheel-base*, *length*, *width*, *height*, *curb-weight*, *engine-size*, *city-mpg* and *highway-mpg* all have fairly low variability (or spread) while *compression-ratio* and *price* have fairly high variability.\n",
    "<br><br>\n",
    "Since there is no indication of inappropriate column data types and working on the assumption that the data has been preprocessed to include no missing values or bad data entries (done in the previous lessons), we can conclude that at this point the data is of good quality for analyses."
   ]
  },
  {
   "cell_type": "markdown",
   "metadata": {},
   "source": [
    "### Exercise"
   ]
  },
  {
   "cell_type": "markdown",
   "metadata": {},
   "source": [
    "Recall the sample dataset that contains 150 observations of iris plants and their various characteristics.  This data is stored as a CSV file on the Math@Work server."
   ]
  },
  {
   "cell_type": "code",
   "execution_count": 19,
   "metadata": {
    "collapsed": true
   },
   "outputs": [],
   "source": [
    "iris = pd.read_csv('https://mathatwork.org/DATA/iris.csv')"
   ]
  },
  {
   "cell_type": "markdown",
   "metadata": {},
   "source": [
    "**1)** In the next cell, examine the characteristics of your dataset."
   ]
  },
  {
   "cell_type": "code",
   "execution_count": null,
   "metadata": {
    "collapsed": true
   },
   "outputs": [],
   "source": []
  },
  {
   "cell_type": "markdown",
   "metadata": {},
   "source": [
    "**2)** In the next cell, examine summary statistics of your dataset. Save your summary statistics into a DataFrame named *summary*."
   ]
  },
  {
   "cell_type": "code",
   "execution_count": null,
   "metadata": {
    "collapsed": true
   },
   "outputs": [],
   "source": []
  },
  {
   "cell_type": "markdown",
   "metadata": {},
   "source": [
    "Run the following code to loop through the *summary* DataFrame to calculate the relative magnitude of the standard deviation for each data column.  In the cell below the output, discuss the spread of your data."
   ]
  },
  {
   "cell_type": "code",
   "execution_count": null,
   "metadata": {},
   "outputs": [],
   "source": [
    "for y in summary:\n",
    "    rel_mag = round(summary[y]['std']/summary[y]['mean']*100,0)\n",
    "    print(y,':  is',rel_mag,'% of the mean')"
   ]
  },
  {
   "cell_type": "code",
   "execution_count": null,
   "metadata": {
    "collapsed": true
   },
   "outputs": [],
   "source": []
  },
  {
   "cell_type": "markdown",
   "metadata": {},
   "source": [
    "**3)** Working on the assumption that the data has been preprocessed to include no missing values or bad data entries, can you conclude that the data is of good quality for analyses? Explain."
   ]
  },
  {
   "cell_type": "code",
   "execution_count": null,
   "metadata": {
    "collapsed": true
   },
   "outputs": [],
   "source": []
  }
 ],
 "metadata": {
  "kernelspec": {
   "display_name": "Python 3",
   "language": "python",
   "name": "python3"
  },
  "language_info": {
   "codemirror_mode": {
    "name": "ipython",
    "version": 3
   },
   "file_extension": ".py",
   "mimetype": "text/x-python",
   "name": "python",
   "nbconvert_exporter": "python",
   "pygments_lexer": "ipython3",
   "version": "3.6.1"
  }
 },
 "nbformat": 4,
 "nbformat_minor": 2
}
