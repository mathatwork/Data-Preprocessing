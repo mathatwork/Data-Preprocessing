{
 "cells": [
  {
   "cell_type": "markdown",
   "metadata": {},
   "source": [
    "# Handling Missing Values"
   ]
  },
  {
   "cell_type": "markdown",
   "metadata": {},
   "source": [
    "It is important to understand that if the missing values are not handled properly by the analyst, then he/she may end up drawing an inaccurate inference about the data. Due to improper handling, the results obtained by the analyst will differ from ones where the missing values are present."
   ]
  },
  {
   "cell_type": "markdown",
   "metadata": {},
   "source": [
    "Let's examine a sample dataset that contains 1985 model import cars and the specification of each auto in terms of its various characteristics.  This data is stored as a CSV file on the Math@Work server."
   ]
  },
  {
   "cell_type": "code",
   "execution_count": 2,
   "metadata": {},
   "outputs": [
    {
     "name": "stdout",
     "output_type": "stream",
     "text": [
      "          make fuel-type aspiration num-of-doors   body-style drive-wheels  \\\n",
      "0  alfa-romero       gas        std          two  convertible          rwd   \n",
      "1  alfa-romero       gas        std          two  convertible          rwd   \n",
      "2  alfa-romero       gas        std          two    hatchback          rwd   \n",
      "3         audi       gas        std         four        sedan          fwd   \n",
      "4         audi       gas        std         four        sedan          4wd   \n",
      "\n",
      "  engine-location  wheel-base  length  width  height  curb-weight engine-type  \\\n",
      "0           front        88.6   168.8   64.1    48.8         2548        dohc   \n",
      "1           front        88.6   168.8   64.1    48.8         2548        dohc   \n",
      "2           front        94.5   171.2   65.5    52.4         2823        ohcv   \n",
      "3           front        99.8   176.6   66.2    54.3         2337         ohc   \n",
      "4           front        99.4   176.6   66.4    54.3         2824         ohc   \n",
      "\n",
      "  num-of-cylinders  engine-size fuel-system  compression-ratio  city-mpg  \\\n",
      "0             four          130        mpfi                9.0        21   \n",
      "1             four          130        mpfi                9.0        21   \n",
      "2              six          152        mpfi                9.0        19   \n",
      "3             four          109        mpfi               10.0        24   \n",
      "4             five          136        mpfi                8.0        18   \n",
      "\n",
      "   highway-mpg    price  \n",
      "0           27  13495.0  \n",
      "1           27  16500.0  \n",
      "2           26  16500.0  \n",
      "3           30  13950.0  \n",
      "4           22  17450.0  \n"
     ]
    }
   ],
   "source": [
    "import pandas as pd\n",
    "autos = pd.read_csv('https://mathatwork.org/DATA/automobiles.csv')\n",
    "print(autos.head())"
   ]
  },
  {
   "cell_type": "markdown",
   "metadata": {},
   "source": [
    "We can use the following methods on the *autos* DataFrame to do a quick count of total missing values for each column in the dataset."
   ]
  },
  {
   "cell_type": "code",
   "execution_count": 7,
   "metadata": {},
   "outputs": [
    {
     "name": "stdout",
     "output_type": "stream",
     "text": [
      "make                  0\n",
      "fuel-type             0\n",
      "aspiration            0\n",
      "num-of-doors          2\n",
      "body-style            0\n",
      "drive-wheels          0\n",
      "engine-location       0\n",
      "wheel-base            0\n",
      "length                0\n",
      "width                 0\n",
      "height                0\n",
      "curb-weight           0\n",
      "engine-type          12\n",
      "num-of-cylinders      0\n",
      "engine-size           0\n",
      "fuel-system           0\n",
      "compression-ratio     0\n",
      "city-mpg              0\n",
      "highway-mpg           0\n",
      "price                 4\n",
      "dtype: int64\n"
     ]
    }
   ],
   "source": [
    "print(autos.isnull().sum())"
   ]
  },
  {
   "cell_type": "markdown",
   "metadata": {},
   "source": [
    "In the above code, **isnull( )** goes through all rows and columns of the *autos* DataFrame and indicates *True* if the entry is null and *False* if it is not.  Then **.sum( )** gives us a total count of all *True* values returned in every column."
   ]
  },
  {
   "cell_type": "markdown",
   "metadata": {},
   "source": [
    "**METHOD 1:  Row deletion**"
   ]
  },
  {
   "cell_type": "markdown",
   "metadata": {},
   "source": [
    "If a particular column has no more than 20% of missing values, then we can delete every data row with a missing value for that column. Let's do a count of the total number of rows in the *autos* DataFrame."
   ]
  },
  {
   "cell_type": "code",
   "execution_count": 8,
   "metadata": {},
   "outputs": [
    {
     "data": {
      "text/plain": [
       "205"
      ]
     },
     "execution_count": 8,
     "metadata": {},
     "output_type": "execute_result"
    }
   ],
   "source": [
    "len(autos.index)"
   ]
  },
  {
   "cell_type": "markdown",
   "metadata": {},
   "source": [
    "Nice.  Applying the **len( )** method to the index of the *autos* DataFrame does the trick.  For more information regarding the **len( )** method, review the Python for Data Visualizations workshop."
   ]
  },
  {
   "cell_type": "markdown",
   "metadata": {},
   "source": [
    "Let's apply the row deletion method to the *engine-type* column.  This column is a good candidate because no more than 75% of its values are missing.  To do this, we will use Pandas **.dropna( )** method and pass in the column name we want to delete the missing values from using the *subset* keyword."
   ]
  },
  {
   "cell_type": "code",
   "execution_count": 10,
   "metadata": {},
   "outputs": [
    {
     "name": "stdout",
     "output_type": "stream",
     "text": [
      "make                 0\n",
      "fuel-type            0\n",
      "aspiration           0\n",
      "num-of-doors         2\n",
      "body-style           0\n",
      "drive-wheels         0\n",
      "engine-location      0\n",
      "wheel-base           0\n",
      "length               0\n",
      "width                0\n",
      "height               0\n",
      "curb-weight          0\n",
      "engine-type          0\n",
      "num-of-cylinders     0\n",
      "engine-size          0\n",
      "fuel-system          0\n",
      "compression-ratio    0\n",
      "city-mpg             0\n",
      "highway-mpg          0\n",
      "price                4\n",
      "dtype: int64\n"
     ]
    },
    {
     "data": {
      "text/plain": [
       "193"
      ]
     },
     "execution_count": 10,
     "metadata": {},
     "output_type": "execute_result"
    }
   ],
   "source": [
    "autos_deleted = autos.dropna(subset=['engine-type'])\n",
    "print(autos_deleted.isnull().sum())\n",
    "len(autos_deleted.index)"
   ]
  },
  {
   "cell_type": "markdown",
   "metadata": {},
   "source": [
    "Great job.  Notice that a quick count of total missing values for each column in the dataset reveals there are no more missing values in the *engine-type* column.  In addition, a count of the total number of remaining rows verifies that only the 12 rows with missing values in the *engine-type* column were deleted."
   ]
  },
  {
   "cell_type": "markdown",
   "metadata": {},
   "source": [
    "**METHOD 2:  Replacing With the Mean**"
   ]
  },
  {
   "cell_type": "markdown",
   "metadata": {},
   "source": [
    "This strategy can only be applied to a column that has numeric data.  Here we calculate the mean of the entire column and use it to replace all the missing values in that column."
   ]
  },
  {
   "cell_type": "markdown",
   "metadata": {},
   "source": [
    "Let's apply this method to the *price* column.  This column is a good candidate because it is numeric. A quick check of this column's data type can be used to verify this."
   ]
  },
  {
   "cell_type": "code",
   "execution_count": 12,
   "metadata": {},
   "outputs": [
    {
     "name": "stdout",
     "output_type": "stream",
     "text": [
      "float64\n"
     ]
    }
   ],
   "source": [
    "print(autos.price.dtypes)"
   ]
  },
  {
   "cell_type": "markdown",
   "metadata": {},
   "source": [
    "The above code confirms that the *price* column is a double precision float (i.e., is numeric).  Now calculate the mean of the *price* column and replace all missing values in that column with this number.  To do this, we will use Pandas **.fillna( )** method applied to only the *price* column and pass in the calculated mean of the *price* column.  The keyword *inplace=True* allows the operation to be performed on the *autos* DataFrame itself and not a copy of it."
   ]
  },
  {
   "cell_type": "code",
   "execution_count": 18,
   "metadata": {},
   "outputs": [
    {
     "name": "stdout",
     "output_type": "stream",
     "text": [
      "make                  0\n",
      "fuel-type             0\n",
      "aspiration            0\n",
      "num-of-doors          2\n",
      "body-style            0\n",
      "drive-wheels          0\n",
      "engine-location       0\n",
      "wheel-base            0\n",
      "length                0\n",
      "width                 0\n",
      "height                0\n",
      "curb-weight           0\n",
      "engine-type          12\n",
      "num-of-cylinders      0\n",
      "engine-size           0\n",
      "fuel-system           0\n",
      "compression-ratio     0\n",
      "city-mpg              0\n",
      "highway-mpg           0\n",
      "price                 0\n",
      "dtype: int64\n"
     ]
    },
    {
     "data": {
      "text/plain": [
       "205"
      ]
     },
     "execution_count": 18,
     "metadata": {},
     "output_type": "execute_result"
    }
   ],
   "source": [
    "autos.price.fillna(autos.price.mean(), inplace=True)\n",
    "print(autos.isnull().sum())\n",
    "len(autos.index)"
   ]
  },
  {
   "cell_type": "markdown",
   "metadata": {},
   "source": [
    "Notice that a quick count of total missing values for each column in the dataset reveals there are no more missing values in the *price* column. In addition, a count of the total number of rows in the *autos* DataFrame verifies there were no rows deleted in this process."
   ]
  },
  {
   "cell_type": "markdown",
   "metadata": {},
   "source": [
    "**METHOD 3:  Replacing With Similar Values**"
   ]
  },
  {
   "cell_type": "markdown",
   "metadata": {},
   "source": [
    "This strategy should only be applied to a column that has categorical data.  In this method, missing values are replaced with a value from another row having the most similar attributes. "
   ]
  },
  {
   "cell_type": "markdown",
   "metadata": {},
   "source": [
    "Let's apply this method to the *num-of-doors* column. This column is a good candidate because it is categorical. A quick check of this column's data type can be used to verify this."
   ]
  },
  {
   "cell_type": "code",
   "execution_count": 20,
   "metadata": {},
   "outputs": [
    {
     "name": "stdout",
     "output_type": "stream",
     "text": [
      "object\n"
     ]
    }
   ],
   "source": [
    "print(autos['num-of-doors'].dtypes)"
   ]
  },
  {
   "cell_type": "markdown",
   "metadata": {},
   "source": [
    "Notice that because of the hyphens in the column name, *num-of-doors* had to be passed inside of quotes and then inside of brackets into the DataFrame.  Nonetheless, the above code verifies that *num-of-doors* is of type object (i.e., is a string or is categorical)."
   ]
  },
  {
   "cell_type": "markdown",
   "metadata": {},
   "source": [
    "The goal is to find other rows in the DataFrame that are most similar to the rows that have missing values in the *num-of-doors* column.  We define *'similarity'* here as having the same *make* and *body-style*.  Presumably, if 2 cars have the same make and body styles they should have the same number of doors.\n",
    "<br><br>\n",
    "Let's filter on the rows that have missing values in the *num-of-doors* column."
   ]
  },
  {
   "cell_type": "code",
   "execution_count": 21,
   "metadata": {},
   "outputs": [
    {
     "name": "stdout",
     "output_type": "stream",
     "text": [
      "     make fuel-type aspiration num-of-doors body-style drive-wheels  \\\n",
      "27  dodge       gas      turbo          NaN      sedan          fwd   \n",
      "63  mazda    diesel        std          NaN      sedan          fwd   \n",
      "\n",
      "   engine-location  wheel-base  length  width  height  curb-weight  \\\n",
      "27           front        93.7   157.3   63.8    50.6         2191   \n",
      "63           front        98.8   177.8   66.5    55.5         2443   \n",
      "\n",
      "   engine-type num-of-cylinders  engine-size fuel-system  compression-ratio  \\\n",
      "27         ohc             four           98        mpfi                7.6   \n",
      "63         ohc             four          122         idi               22.7   \n",
      "\n",
      "    city-mpg  highway-mpg    price  \n",
      "27        24           30   8558.0  \n",
      "63        36           42  10795.0  \n"
     ]
    }
   ],
   "source": [
    "missing = autos[autos['num-of-doors'].isnull()]\n",
    "print(missing)"
   ]
  },
  {
   "cell_type": "markdown",
   "metadata": {},
   "source": [
    "We can now see that the makes of cars with missing *num-of-doors* values are dodge and mazda.  The body-styles are both sedan.  Since similarity was defined as having the same *make* and *body-style*, let's now filter on *make=dodge OR mazda* AND *body-style=sedan*."
   ]
  },
  {
   "cell_type": "code",
   "execution_count": 36,
   "metadata": {},
   "outputs": [
    {
     "name": "stdout",
     "output_type": "stream",
     "text": [
      "     make num-of-doors body-style\n",
      "25  dodge         four      sedan\n",
      "26  dodge         four      sedan\n",
      "27  dodge          NaN      sedan\n",
      "53  mazda         four      sedan\n",
      "54  mazda         four      sedan\n",
      "60  mazda         four      sedan\n",
      "62  mazda         four      sedan\n",
      "63  mazda          NaN      sedan\n",
      "65  mazda         four      sedan\n",
      "66  mazda         four      sedan\n"
     ]
    }
   ],
   "source": [
    "autos_filtered = autos[((autos.make == 'dodge') | (autos.make == 'mazda')) & (autos['body-style'] == 'sedan')]\n",
    "print(autos_filtered[['make','num-of-doors','body-style']])"
   ]
  },
  {
   "cell_type": "markdown",
   "metadata": {},
   "source": [
    "Recall from the Python for Data Science workshop that | is the symbol for OR and & is the symbol for AND.  Examining the *make* and *body-style* columns, the missing *num-of-doors* is more than likely four.  Let's replace the missing values in this column with four."
   ]
  },
  {
   "cell_type": "code",
   "execution_count": 37,
   "metadata": {},
   "outputs": [
    {
     "name": "stdout",
     "output_type": "stream",
     "text": [
      "make                  0\n",
      "fuel-type             0\n",
      "aspiration            0\n",
      "num-of-doors          0\n",
      "body-style            0\n",
      "drive-wheels          0\n",
      "engine-location       0\n",
      "wheel-base            0\n",
      "length                0\n",
      "width                 0\n",
      "height                0\n",
      "curb-weight           0\n",
      "engine-type          12\n",
      "num-of-cylinders      0\n",
      "engine-size           0\n",
      "fuel-system           0\n",
      "compression-ratio     0\n",
      "city-mpg              0\n",
      "highway-mpg           0\n",
      "price                 0\n",
      "dtype: int64\n"
     ]
    },
    {
     "data": {
      "text/plain": [
       "205"
      ]
     },
     "execution_count": 37,
     "metadata": {},
     "output_type": "execute_result"
    }
   ],
   "source": [
    "autos['num-of-doors'].fillna('four', inplace=True)\n",
    "print(autos.isnull().sum())\n",
    "len(autos.index)"
   ]
  },
  {
   "cell_type": "markdown",
   "metadata": {},
   "source": [
    "Notice that a quick count of total missing values for each column in the dataset reveals there are no more missing values in the *num-of-doors* column. In addition, a count of the total number of rows in the autos DataFrame verifies there were no rows deleted in this process."
   ]
  },
  {
   "cell_type": "markdown",
   "metadata": {},
   "source": [
    "Whichever method or methods you choose to apply is up to you.  However, you must ensure that the method is appropriate for the given situation.  Keep in mind, though, that if a column has more than 20% of missing data, that column should be removed and NOT be used for analysis."
   ]
  },
  {
   "cell_type": "markdown",
   "metadata": {},
   "source": [
    "### Exercise"
   ]
  },
  {
   "cell_type": "markdown",
   "metadata": {},
   "source": [
    "Let's examine a sample dataset that contains 150 observations of iris plants and their various characteristics. This data is stored as a CSV file on the Math@Work server."
   ]
  },
  {
   "cell_type": "code",
   "execution_count": 57,
   "metadata": {},
   "outputs": [
    {
     "name": "stdout",
     "output_type": "stream",
     "text": [
      "   sepal_length  sepal_width  petal_length  petal_width        class\n",
      "0           5.1          3.5           1.4          0.2  Iris-setosa\n",
      "1           4.9          3.0           1.4          0.2  Iris-setosa\n",
      "2           4.7          3.2           1.3          0.2  Iris-setosa\n",
      "3           4.6          3.1           1.5          0.2  Iris-setosa\n",
      "4           5.0          3.6           1.4          0.2  Iris-setosa\n"
     ]
    }
   ],
   "source": [
    "iris = pd.read_csv('https://mathatwork.org/DATA/iris.csv')\n",
    "print(iris.head())"
   ]
  },
  {
   "cell_type": "markdown",
   "metadata": {},
   "source": [
    "Though it may not be clear now, examining the unique class types will be helpful later.  Take a look at a listing of unique elements in the *class* column."
   ]
  },
  {
   "cell_type": "code",
   "execution_count": 58,
   "metadata": {},
   "outputs": [
    {
     "name": "stdout",
     "output_type": "stream",
     "text": [
      "                 sepal_length  sepal_width  petal_length  petal_width\n",
      "class                                                                \n",
      "Iris-setosa               5.1          3.5           1.4          0.2\n",
      "Iris-versicolor           7.0          3.2           4.7          1.4\n",
      "Iris-virginica            6.3          3.3           6.0          2.5\n"
     ]
    }
   ],
   "source": [
    "print(iris.groupby('class').first())"
   ]
  },
  {
   "cell_type": "markdown",
   "metadata": {},
   "source": [
    "**1)** Do a quick count of the total missing values for each column in the dataset."
   ]
  },
  {
   "cell_type": "code",
   "execution_count": null,
   "metadata": {},
   "outputs": [],
   "source": []
  },
  {
   "cell_type": "markdown",
   "metadata": {},
   "source": [
    "**2)** Apply METHOD 1 to the *sepal_width* column.  Remember to verify no missing values remain in the *sepal_width* column and that the correct number of rows were deleted."
   ]
  },
  {
   "cell_type": "code",
   "execution_count": null,
   "metadata": {},
   "outputs": [],
   "source": []
  },
  {
   "cell_type": "markdown",
   "metadata": {},
   "source": [
    "Take a look at the row data for missing values in the *sepal_length* column."
   ]
  },
  {
   "cell_type": "code",
   "execution_count": 61,
   "metadata": {},
   "outputs": [
    {
     "name": "stdout",
     "output_type": "stream",
     "text": [
      "    sepal_length  sepal_width  petal_length  petal_width        class\n",
      "26           NaN          3.4           1.6          0.4  Iris-setosa\n"
     ]
    }
   ],
   "source": [
    "missing = iris[iris.sepal_length.isnull()]\n",
    "print(missing)"
   ]
  },
  {
   "cell_type": "markdown",
   "metadata": {},
   "source": [
    "You see that this missing *sepal_length* belongs to the Iris-setosa class.  Recall there are 3 unique classes.  We may get better results in the application of METHOD 2 by replacing this missing value with the mean of its class and not the mean of the entire *sepal_length* column."
   ]
  },
  {
   "cell_type": "markdown",
   "metadata": {},
   "source": [
    "**3)** Apply METHOD 2 to the *sepal_length* column altering the formula to calculate the mean for the class of the missing value and not the mean of the entire *sepal_length* column.  Remember to verify no missing values remain in the *sepal_length* column and that no rows were deleted."
   ]
  },
  {
   "cell_type": "code",
   "execution_count": null,
   "metadata": {
    "collapsed": true
   },
   "outputs": [],
   "source": []
  },
  {
   "cell_type": "code",
   "execution_count": null,
   "metadata": {},
   "outputs": [],
   "source": []
  },
  {
   "cell_type": "markdown",
   "metadata": {},
   "source": [
    "Take a look at the row data for missing values in the *class* column."
   ]
  },
  {
   "cell_type": "code",
   "execution_count": 65,
   "metadata": {},
   "outputs": [
    {
     "name": "stdout",
     "output_type": "stream",
     "text": [
      "    sepal_length  sepal_width  petal_length  petal_width class\n",
      "24           4.8          3.4           1.9          0.2   NaN\n",
      "68           6.2          2.2           4.5          1.5   NaN\n"
     ]
    }
   ],
   "source": [
    "missing = iris[iris['class'].isnull()]\n",
    "print(missing)"
   ]
  },
  {
   "cell_type": "markdown",
   "metadata": {},
   "source": [
    "**4)** Apply METHOD 3 to the *class* column.  Define 'similarity' as the class that is closest to the missing *class* in mean *sepal_length*, mean *sepal_width*, mean *petal_length* and mean *petal_width*."
   ]
  },
  {
   "cell_type": "markdown",
   "metadata": {},
   "source": [
    "Run the following code to get the means for each *class*."
   ]
  },
  {
   "cell_type": "code",
   "execution_count": null,
   "metadata": {},
   "outputs": [],
   "source": [
    "means = iris.groupby('class').mean()\n",
    "print(means)"
   ]
  },
  {
   "cell_type": "markdown",
   "metadata": {},
   "source": [
    "Run the following code to replace the first missing value (index 24) in the *class* column with the estimated class Iris-setosa."
   ]
  },
  {
   "cell_type": "code",
   "execution_count": null,
   "metadata": {},
   "outputs": [],
   "source": [
    "iris['class'].fillna('Iris-setosa', limit=1, inplace=True)\n",
    "print(iris.isnull().sum())\n",
    "len(iris.index)"
   ]
  },
  {
   "cell_type": "markdown",
   "metadata": {},
   "source": [
    "The above code verifies only 1 missing value was filled.  \n",
    "<br>\n",
    "Fill in the last missing value with your estimated *class* using similar code as above.  Remember to verify no missing values remain in the *class* column and that no rows were deleted."
   ]
  },
  {
   "cell_type": "code",
   "execution_count": null,
   "metadata": {},
   "outputs": [],
   "source": []
  },
  {
   "cell_type": "code",
   "execution_count": null,
   "metadata": {
    "collapsed": true
   },
   "outputs": [],
   "source": []
  }
 ],
 "metadata": {
  "kernelspec": {
   "display_name": "Python 3",
   "language": "python",
   "name": "python3"
  },
  "language_info": {
   "codemirror_mode": {
    "name": "ipython",
    "version": 3
   },
   "file_extension": ".py",
   "mimetype": "text/x-python",
   "name": "python",
   "nbconvert_exporter": "python",
   "pygments_lexer": "ipython3",
   "version": "3.6.1"
  }
 },
 "nbformat": 4,
 "nbformat_minor": 2
}
