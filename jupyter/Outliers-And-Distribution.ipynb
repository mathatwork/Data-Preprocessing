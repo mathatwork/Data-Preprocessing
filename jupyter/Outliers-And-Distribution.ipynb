{
 "cells": [
  {
   "cell_type": "markdown",
   "metadata": {},
   "source": [
    "# Data Distribution"
   ]
  },
  {
   "cell_type": "markdown",
   "metadata": {},
   "source": [
    "**Skewness** is the symmetry or lack of symmetry of data. Bowley’s coefficient of skewness can be used to assess the skewness of data and is calculated as follows:\n",
    "<br><br>\n",
    "S = [Q3 – 2Q2 + Q1] / [Q3 – Q1]\n",
    "<br>\n",
    "where Q1, Q2 and Q3 are the first, second and third quartiles respectively.\n",
    "<br><br>\n",
    "For this coefficient of skewness (S), we have the following conclusions:\n",
    "- If S = 0, the distribution is symmetrical\n",
    "- If S > 0, the distribution is positively skewed\n",
    "- If S < 0, the distribution is negatively skewed"
   ]
  },
  {
   "cell_type": "markdown",
   "metadata": {},
   "source": [
    "Recall the sample dataset that contains 1985 model import cars and the specification of each auto in terms of its various characteristics.  This data is stored as a CSV file on the Math@Work server."
   ]
  },
  {
   "cell_type": "code",
   "execution_count": 35,
   "metadata": {},
   "outputs": [
    {
     "name": "stdout",
     "output_type": "stream",
     "text": [
      "          make fuel-type aspiration num-of-doors   body-style drive-wheels  \\\n",
      "0  alfa-romero       gas        std          two  convertible          rwd   \n",
      "1  alfa-romero       gas        std          two  convertible          rwd   \n",
      "2  alfa-romero       gas        std          two    hatchback          rwd   \n",
      "3         audi       gas        std         four        sedan          fwd   \n",
      "4         audi       gas        std         four        sedan          4wd   \n",
      "\n",
      "  engine-location  wheel-base  length  width  height  curb-weight engine-type  \\\n",
      "0           front        88.6   168.8   64.1    48.8         2548        dohc   \n",
      "1           front        88.6   168.8   64.1    48.8         2548        dohc   \n",
      "2           front        94.5   171.2   65.5    52.4         2823        ohcv   \n",
      "3           front        99.8   176.6   66.2    54.3         2337         ohc   \n",
      "4           front        99.4   176.6   66.4    54.3         2824         ohc   \n",
      "\n",
      "  num-of-cylinders  engine-size fuel-system  compression-ratio  city-mpg  \\\n",
      "0             four          130        mpfi                9.0        21   \n",
      "1             four          130        mpfi                9.0        21   \n",
      "2              six          152        mpfi                9.0        19   \n",
      "3             four          109        mpfi               10.0        24   \n",
      "4             five          136        mpfi                8.0        18   \n",
      "\n",
      "   highway-mpg    price  \n",
      "0           27  13495.0  \n",
      "1           27  16500.0  \n",
      "2           26  16500.0  \n",
      "3           30  13950.0  \n",
      "4           22  17450.0  \n"
     ]
    }
   ],
   "source": [
    "import pandas as pd\n",
    "autos = pd.read_csv('https://www.mathatwork.org/DATA/automobiles.csv')\n",
    "print(autos.head())"
   ]
  },
  {
   "cell_type": "markdown",
   "metadata": {},
   "source": [
    "Let's examine the *autos* summary statistics."
   ]
  },
  {
   "cell_type": "code",
   "execution_count": 3,
   "metadata": {},
   "outputs": [
    {
     "name": "stdout",
     "output_type": "stream",
     "text": [
      "       wheel-base      length       width      height  curb-weight  \\\n",
      "count  205.000000  205.000000  205.000000  205.000000   205.000000   \n",
      "mean    98.756585  174.049268   65.907805   53.724878  2555.565854   \n",
      "std      6.021776   12.337289    2.145204    2.443522   520.680204   \n",
      "min     86.600000  141.100000   60.300000   47.800000  1488.000000   \n",
      "25%     94.500000  166.300000   64.100000   52.000000  2145.000000   \n",
      "50%     97.000000  173.200000   65.500000   54.100000  2414.000000   \n",
      "75%    102.400000  183.100000   66.900000   55.500000  2935.000000   \n",
      "max    120.900000  208.100000   72.300000   59.800000  4066.000000   \n",
      "\n",
      "       engine-size  compression-ratio    city-mpg  highway-mpg         price  \n",
      "count   205.000000         205.000000  205.000000   205.000000    201.000000  \n",
      "mean    126.907317          10.142537   25.219512    30.751220  13207.129353  \n",
      "std      41.642693           3.972040    6.542142     6.886443   7947.066342  \n",
      "min      61.000000           7.000000   13.000000    16.000000   5118.000000  \n",
      "25%      97.000000           8.600000   19.000000    25.000000   7775.000000  \n",
      "50%     120.000000           9.000000   24.000000    30.000000  10295.000000  \n",
      "75%     141.000000           9.400000   30.000000    34.000000  16500.000000  \n",
      "max     326.000000          23.000000   49.000000    54.000000  45400.000000  \n"
     ]
    }
   ],
   "source": [
    "summary = autos.describe()\n",
    "print(summary)"
   ]
  },
  {
   "cell_type": "markdown",
   "metadata": {},
   "source": [
    "Notice that the summary statistics was saved into a DataFrame named *summary*.  We can now loop through this DataFrame to calculate Bowley coefficients, *S*, for each data column."
   ]
  },
  {
   "cell_type": "code",
   "execution_count": 32,
   "metadata": {},
   "outputs": [
    {
     "name": "stdout",
     "output_type": "stream",
     "text": [
      "wheel-base :  S = 0.367088607595\n",
      "length :  S = 0.178571428571\n",
      "width :  S = 0.0\n",
      "height :  S = -0.2\n",
      "curb-weight :  S = 0.318987341772\n",
      "engine-size :  S = -0.0454545454545\n",
      "compression-ratio :  S = 0.0\n",
      "city-mpg :  S = 0.0909090909091\n",
      "highway-mpg :  S = -0.111111111111\n",
      "price :  S = 0.422349570201\n"
     ]
    }
   ],
   "source": [
    "Q1 = '25%'\n",
    "Q2 = '50%'\n",
    "Q3 = '75%'\n",
    "for y in summary:\n",
    "    S = (summary[y][Q3] - 2*summary[y][Q2] + summary[y][Q1])/(summary[y][Q3] - summary[y][Q1])\n",
    "    print(y,':  S =',S)"
   ]
  },
  {
   "cell_type": "markdown",
   "metadata": {},
   "source": [
    "This indicates that *wheel-base*, *length*, *curb-weight*, *city-mpg* and *price* are all right skewed.  Furthermore, *height*, *engine-size* and *highway-mpg* are all left skewed.  Finally, *width* and *compression-ratio* are symmetrical."
   ]
  },
  {
   "cell_type": "markdown",
   "metadata": {},
   "source": [
    "# Identifying Outliers"
   ]
  },
  {
   "cell_type": "markdown",
   "metadata": {},
   "source": [
    "An outlier is an observation point that is abnormally distant from other observation points in the data.  The presence of outliers can be determined using a boxplot.  If there are any outliers in a dataset, they would be plotted as single points above or below (or left of or right of, depending on boxplot orientation) the boxplot itself. The presence of outliers expose that the data is highly varied and could ultimately skew analysis results. In addition, they could indicate a problem in the data such as measurement or input error."
   ]
  },
  {
   "cell_type": "markdown",
   "metadata": {},
   "source": [
    "Let's check for outliers using boxplots.  We will loop through the columns of the *summary* DataFrame and then using Pandas **.boxplot( )**, plot each boxplot."
   ]
  },
  {
   "cell_type": "code",
   "execution_count": 46,
   "metadata": {},
   "outputs": [
    {
     "data": {
      "image/png": "[encoded data removed]",
      "text/plain": [
       "<matplotlib.figure.Figure at 0x11087c710>"
      ]
     },
     "metadata": {},
     "output_type": "display_data"
    },
    {
     "data": {
      "image/png": "[encoded data removed]",
      "text/plain": [
       "<matplotlib.figure.Figure at 0x10ff1aa58>"
      ]
     },
     "metadata": {},
     "output_type": "display_data"
    },
    {
     "data": {
      "image/png": "[encoded data removed]",
      "text/plain": [
       "<matplotlib.figure.Figure at 0x11006dfd0>"
      ]
     },
     "metadata": {},
     "output_type": "display_data"
    },
    {
     "data": {
      "image/png": "[encoded data removed]",
      "text/plain": [
       "<matplotlib.figure.Figure at 0x110920ef0>"
      ]
     },
     "metadata": {},
     "output_type": "display_data"
    },
    {
     "data": {
      "image/png": "[encoded data removed]",
      "text/plain": [
       "<matplotlib.figure.Figure at 0x110d3bcf8>"
      ]
     },
     "metadata": {},
     "output_type": "display_data"
    },
    {
     "data": {
      "image/png": "[encoded data removed]",
      "text/plain": [
       "<matplotlib.figure.Figure at 0x11021b358>"
      ]
     },
     "metadata": {},
     "output_type": "display_data"
    },
    {
     "data": {
      "image/png": "[encoded data removed]",
      "text/plain": [
       "<matplotlib.figure.Figure at 0x10fe99860>"
      ]
     },
     "metadata": {},
     "output_type": "display_data"
    },
    {
     "data": {
      "image/png": "[encoded data removed]",
      "text/plain": [
       "<matplotlib.figure.Figure at 0x1100ae5c0>"
      ]
     },
     "metadata": {},
     "output_type": "display_data"
    },
    {
     "data": {
      "image/png": "[encoded data removed]",
      "text/plain": [
       "<matplotlib.figure.Figure at 0x10feb1198>"
      ]
     },
     "metadata": {},
     "output_type": "display_data"
    },
    {
     "data": {
      "image/png": "[encoded data removed]",
      "text/plain": [
       "<matplotlib.figure.Figure at 0x10fb27ba8>"
      ]
     },
     "metadata": {},
     "output_type": "display_data"
    }
   ],
   "source": [
    "import matplotlib.pyplot as plt\n",
    "for y in summary:\n",
    "    autos.boxplot(column=[y])\n",
    "    plt.show()"
   ]
  },
  {
   "cell_type": "markdown",
   "metadata": {},
   "source": [
    "Notice that it only makes sense to plot the columns in the *summary* DataFrame rather than in the *autos* DataFrame because *autos* contains non-numeric columns."
   ]
  },
  {
   "cell_type": "markdown",
   "metadata": {},
   "source": [
    "The boxplots indicate the presence of outliers in all columns except *height* and *curb-weight*.  It also verifies the skewness as speculated above that *wheel-base*, *length*, *curb-weight*, *city-mpg* and *price* are all right skewed;   *height* and *highway-mpg* are all left skewed; and *width* is symmetrical. The spread of *engine-size* and *compression-ratio* could not be verified as speculated."
   ]
  },
  {
   "cell_type": "markdown",
   "metadata": {},
   "source": [
    "While the *height* and *curb-weight* boxplots indicate these data look to be of good quality for analyses, more insights are needed on the rest to determine whether there is a problem in the data such as measurement or input error."
   ]
  },
  {
   "cell_type": "markdown",
   "metadata": {},
   "source": [
    "### Exercise"
   ]
  },
  {
   "cell_type": "markdown",
   "metadata": {},
   "source": [
    "Recall the sample dataset that contains 150 observations of iris plants and their various characteristics. This data is stored as a CSV file on the Math@Work server."
   ]
  },
  {
   "cell_type": "code",
   "execution_count": 47,
   "metadata": {},
   "outputs": [
    {
     "name": "stdout",
     "output_type": "stream",
     "text": [
      "   sepal_length  sepal_width  petal_length  petal_width        class\n",
      "0           5.1          3.5           1.4          0.2  Iris-setosa\n",
      "1           4.9          3.0           1.4          0.2  Iris-setosa\n",
      "2           4.7          3.2           1.3          0.2  Iris-setosa\n",
      "3           4.6          3.1           1.5          0.2  Iris-setosa\n",
      "4           5.0          3.6           1.4          0.2  Iris-setosa\n"
     ]
    }
   ],
   "source": [
    "iris = pd.read_csv('https://mathatwork.org/DATA/iris.csv')\n",
    "print(iris.head())"
   ]
  },
  {
   "cell_type": "markdown",
   "metadata": {},
   "source": [
    "Run the following code to loop through the *summary* DataFrame to calculate Bowley coefficients, S, for each data column."
   ]
  },
  {
   "cell_type": "code",
   "execution_count": null,
   "metadata": {},
   "outputs": [],
   "source": [
    "summary = iris.describe()\n",
    "Q1 = '25%'\n",
    "Q2 = '50%'\n",
    "Q3 = '75%'\n",
    "for y in summary:\n",
    "    S = (summary[y][Q3] - 2*summary[y][Q2] + summary[y][Q1])/(summary[y][Q3] - summary[y][Q1])\n",
    "    print(y,':  S =',S)"
   ]
  },
  {
   "cell_type": "markdown",
   "metadata": {},
   "source": [
    "**1)**  What do the Bowley coefficients reveal about the skewness of each column's data? Explain."
   ]
  },
  {
   "cell_type": "code",
   "execution_count": null,
   "metadata": {
    "collapsed": true
   },
   "outputs": [],
   "source": []
  },
  {
   "cell_type": "markdown",
   "metadata": {},
   "source": [
    "Run the following code to loop through the *summary* DataFrame to plot each column's boxplot."
   ]
  },
  {
   "cell_type": "code",
   "execution_count": null,
   "metadata": {},
   "outputs": [],
   "source": [
    "for y in summary:\n",
    "    iris.boxplot(column=[y])\n",
    "    plt.show()"
   ]
  },
  {
   "cell_type": "markdown",
   "metadata": {},
   "source": [
    "**2)** What do the boxplots reveal regarding outliers?  Explain."
   ]
  },
  {
   "cell_type": "code",
   "execution_count": null,
   "metadata": {
    "collapsed": true
   },
   "outputs": [],
   "source": []
  },
  {
   "cell_type": "markdown",
   "metadata": {},
   "source": [
    "**3)** Which boxplots verify skewness as speculated in question 1 above? Explain."
   ]
  },
  {
   "cell_type": "code",
   "execution_count": null,
   "metadata": {
    "collapsed": true
   },
   "outputs": [],
   "source": []
  },
  {
   "cell_type": "markdown",
   "metadata": {},
   "source": [
    "**4)** Which data do the boxplots indicate are of good quality for analyses?  Explain."
   ]
  },
  {
   "cell_type": "code",
   "execution_count": null,
   "metadata": {
    "collapsed": true
   },
   "outputs": [],
   "source": []
  }
 ],
 "metadata": {
  "kernelspec": {
   "display_name": "Python 3",
   "language": "python",
   "name": "python3"
  },
  "language_info": {
   "codemirror_mode": {
    "name": "ipython",
    "version": 3
   },
   "file_extension": ".py",
   "mimetype": "text/x-python",
   "name": "python",
   "nbconvert_exporter": "python",
   "pygments_lexer": "ipython3",
   "version": "3.6.1"
  }
 },
 "nbformat": 4,
 "nbformat_minor": 2
}
