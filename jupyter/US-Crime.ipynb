{
 "cells": [
  {
   "cell_type": "markdown",
   "metadata": {},
   "source": [
    "# Data Preprocessing in the Real World:  US Crime"
   ]
  },
  {
   "cell_type": "markdown",
   "metadata": {},
   "source": [
    "You are a data analyst for the FBI's Criminal Justice Information Services Division who is interested in analyzing crime in the US.  You obtain a dataset containing crime in the United States by rate per 100,000 inhabitants for years 1997–2016.  This data is stored as a CSV file on the Math@Work server."
   ]
  },
  {
   "cell_type": "code",
   "execution_count": 7,
   "metadata": {},
   "outputs": [
    {
     "name": "stdout",
     "output_type": "stream",
     "text": [
      "    year   population  violent_crime  murder  rape  robbery  assault  \\\n",
      "0   1997  267783607.0          611.0     6.8   NaN    186.2    382.1   \n",
      "1   1998  270248003.0          567.6     6.3   NaN    165.5    361.4   \n",
      "2   1999  272690813.0          523.0     5.7   NaN    150.1    334.3   \n",
      "3   2000  281421906.0          506.5     5.5   NaN    145.0    324.0   \n",
      "4  20015  285317559.0          504.5     5.6   NaN    148.5    318.6   \n",
      "\n",
      "   property_crime  burglary  larceny  motor_vehicle_theft  \n",
      "0          4316.3     918.8   2891.8                505.7  \n",
      "1          4052.5     863.2   2729.5                459.9  \n",
      "2          3743.6     770.4   2550.7                422.5  \n",
      "3          3618.3     728.8   2477.3                412.2  \n",
      "4          3658.1     741.8   2485.7                430.5  \n"
     ]
    }
   ],
   "source": [
    "import pandas as pd\n",
    "crime = pd.read_csv('https://mathatwork.org/DATA/fbi-crime.csv')\n",
    "print(crime.head())"
   ]
  },
  {
   "cell_type": "markdown",
   "metadata": {},
   "source": [
    "You understand that before doing any analysis, proper preprocessing must be done on the data.  First handle any missing values then manage any bad data entries."
   ]
  },
  {
   "cell_type": "markdown",
   "metadata": {},
   "source": [
    "**1]** Do a quick count on the total number of rows in the dataset and the total missing values for each column in the dataset."
   ]
  },
  {
   "cell_type": "code",
   "execution_count": null,
   "metadata": {},
   "outputs": [],
   "source": []
  },
  {
   "cell_type": "markdown",
   "metadata": {},
   "source": [
    "**2]** If there are any columns that should NOT be used for analysis, apply to the *crime* DataFrame **.drop(['B', 'C'], inplace=True, axis=1)** replacing 'B' and 'C' with the column names that should be removed.  Be sure to verify that the column or columns were dropped."
   ]
  },
  {
   "cell_type": "code",
   "execution_count": null,
   "metadata": {},
   "outputs": [],
   "source": []
  },
  {
   "cell_type": "markdown",
   "metadata": {},
   "source": [
    "**3]** After dropping the columns, if there are any other missing values, print their row data to the screen."
   ]
  },
  {
   "cell_type": "code",
   "execution_count": null,
   "metadata": {},
   "outputs": [],
   "source": []
  },
  {
   "cell_type": "markdown",
   "metadata": {},
   "source": [
    "**4]** Apply appropriate methods to replace or delete the missing data exposed in question 3.  Remember to verify that no missing values remain in the data."
   ]
  },
  {
   "cell_type": "code",
   "execution_count": null,
   "metadata": {},
   "outputs": [],
   "source": []
  },
  {
   "cell_type": "markdown",
   "metadata": {},
   "source": [
    "**5]**  Check the quality of the *year* column by first examining the column's data type and then by applying an appropriate filter.  **Note:**  In practice, you would check the quality of all the columns in your dataset."
   ]
  },
  {
   "cell_type": "code",
   "execution_count": null,
   "metadata": {},
   "outputs": [],
   "source": []
  },
  {
   "cell_type": "markdown",
   "metadata": {},
   "source": [
    "**6]** If there is any bad data exposed in question 5, replace it with the appropriate data.  Remember to do another filter to check the changes you made."
   ]
  },
  {
   "cell_type": "code",
   "execution_count": null,
   "metadata": {},
   "outputs": [],
   "source": []
  },
  {
   "cell_type": "markdown",
   "metadata": {},
   "source": [
    "Presumably at this point, your data has been properly managed to include no missing values and no bad data entries.  Now you need to get a better understanding of your data in order to gain as many insights from it BEFORE doing any analyses."
   ]
  },
  {
   "cell_type": "markdown",
   "metadata": {},
   "source": [
    "**7]** Examine the characteristics of your dataset."
   ]
  },
  {
   "cell_type": "code",
   "execution_count": null,
   "metadata": {},
   "outputs": [],
   "source": []
  },
  {
   "cell_type": "markdown",
   "metadata": {},
   "source": [
    "**8]**  Examine the summary statistics of your dataset.  Save your summary statistics into a DataFrame named *summary*."
   ]
  },
  {
   "cell_type": "code",
   "execution_count": null,
   "metadata": {},
   "outputs": [],
   "source": []
  },
  {
   "cell_type": "markdown",
   "metadata": {},
   "source": [
    "**9]** Run the following code to loop through the *summary* DataFrame to calculate relative magnitude of the standard deviation for each data column.  In the cell below the output, discuss the spread of your data."
   ]
  },
  {
   "cell_type": "code",
   "execution_count": null,
   "metadata": {},
   "outputs": [],
   "source": [
    "for y in summary:\n",
    "    rel_mag = round(summary[y]['std']/summary[y]['mean']*100,0)\n",
    "    print(y, ':  is',rel_mag,'% of the mean')"
   ]
  },
  {
   "cell_type": "code",
   "execution_count": null,
   "metadata": {
    "collapsed": true
   },
   "outputs": [],
   "source": []
  },
  {
   "cell_type": "markdown",
   "metadata": {},
   "source": [
    "**10]** Run the following code to loop through the *summary* DataFrame to calculate Bowley coefficients, S, for each data column.  In the cell below the output, explain what the Bowley coefficients reveal about the skewness of each column data."
   ]
  },
  {
   "cell_type": "code",
   "execution_count": null,
   "metadata": {},
   "outputs": [],
   "source": [
    "Q1 = '25%'\n",
    "Q2 = '50%'\n",
    "Q3 = '75%'\n",
    "for y in summary:\n",
    "    S = (summary[y][Q3] - 2*summary[y][Q2] + summary[y][Q1])/(summary[y][Q3] - summary[y][Q1])\n",
    "    print(y,':  S =',S)"
   ]
  },
  {
   "cell_type": "code",
   "execution_count": null,
   "metadata": {
    "collapsed": true
   },
   "outputs": [],
   "source": []
  },
  {
   "cell_type": "markdown",
   "metadata": {},
   "source": [
    "**11]** Run the following code to loop through the summary DataFrame to plot each column's boxplot."
   ]
  },
  {
   "cell_type": "code",
   "execution_count": null,
   "metadata": {},
   "outputs": [],
   "source": [
    "import matplotlib.pyplot as plt\n",
    "for y in summary:\n",
    "    crime.boxplot(column=[y])\n",
    "    plt.show()"
   ]
  },
  {
   "cell_type": "markdown",
   "metadata": {},
   "source": [
    "**12]** What do the boxplots reveal regarding outliers? Explain."
   ]
  },
  {
   "cell_type": "code",
   "execution_count": null,
   "metadata": {
    "collapsed": true
   },
   "outputs": [],
   "source": []
  },
  {
   "cell_type": "markdown",
   "metadata": {},
   "source": [
    "**13]** Which boxplots verify skewness as speculated in question 10 above? Explain."
   ]
  },
  {
   "cell_type": "code",
   "execution_count": null,
   "metadata": {
    "collapsed": true
   },
   "outputs": [],
   "source": []
  },
  {
   "cell_type": "markdown",
   "metadata": {},
   "source": [
    "**14]** Which data do the boxplots indicate are of good quality for analyses? Explain."
   ]
  },
  {
   "cell_type": "code",
   "execution_count": null,
   "metadata": {
    "collapsed": true
   },
   "outputs": [],
   "source": []
  }
 ],
 "metadata": {
  "kernelspec": {
   "display_name": "Python 3",
   "language": "python",
   "name": "python3"
  },
  "language_info": {
   "codemirror_mode": {
    "name": "ipython",
    "version": 3
   },
   "file_extension": ".py",
   "mimetype": "text/x-python",
   "name": "python",
   "nbconvert_exporter": "python",
   "pygments_lexer": "ipython3",
   "version": "3.6.1"
  }
 },
 "nbformat": 4,
 "nbformat_minor": 2
}
